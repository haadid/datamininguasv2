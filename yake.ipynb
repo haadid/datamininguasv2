{
 "cells": [
  {
   "cell_type": "code",
   "execution_count": 1,
   "metadata": {
    "collapsed": true,
    "ExecuteTime": {
     "end_time": "2023-07-24T09:37:43.875779300Z",
     "start_time": "2023-07-24T09:37:36.735447Z"
    }
   },
   "outputs": [
    {
     "name": "stdout",
     "output_type": "stream",
     "text": [
      "Collecting git+https://github.com/LIAAD/yake\n",
      "  Cloning https://github.com/LIAAD/yake to c:\\users\\mrwnh\\appdata\\local\\temp\\pip-req-build-83o9_f4_\n",
      "  Resolved https://github.com/LIAAD/yake to commit 374fc1c1c19eb080d5b6115cbb8d4a4324392e54\n",
      "  Preparing metadata (setup.py): started\n",
      "  Preparing metadata (setup.py): finished with status 'done'\n",
      "Requirement already satisfied: tabulate in d:\\kuliah\\data mining\\uasv2\\venv\\lib\\site-packages (from yake==0.4.8) (0.9.0)\n",
      "Requirement already satisfied: click>=6.0 in d:\\kuliah\\data mining\\uasv2\\venv\\lib\\site-packages (from yake==0.4.8) (8.1.6)\n",
      "Requirement already satisfied: numpy in d:\\kuliah\\data mining\\uasv2\\venv\\lib\\site-packages (from yake==0.4.8) (1.24.4)\n",
      "Requirement already satisfied: segtok in d:\\kuliah\\data mining\\uasv2\\venv\\lib\\site-packages (from yake==0.4.8) (1.5.11)\n",
      "Requirement already satisfied: networkx in d:\\kuliah\\data mining\\uasv2\\venv\\lib\\site-packages (from yake==0.4.8) (3.1)\n",
      "Requirement already satisfied: jellyfish in d:\\kuliah\\data mining\\uasv2\\venv\\lib\\site-packages (from yake==0.4.8) (1.0.0)\n",
      "Requirement already satisfied: colorama in d:\\kuliah\\data mining\\uasv2\\venv\\lib\\site-packages (from click>=6.0->yake==0.4.8) (0.4.6)\n",
      "Requirement already satisfied: regex in d:\\kuliah\\data mining\\uasv2\\venv\\lib\\site-packages (from segtok->yake==0.4.8) (2023.6.3)\n"
     ]
    },
    {
     "name": "stderr",
     "output_type": "stream",
     "text": [
      "  Running command git clone --filter=blob:none --quiet https://github.com/LIAAD/yake 'C:\\Users\\mrwnh\\AppData\\Local\\Temp\\pip-req-build-83o9_f4_'\n",
      "\n",
      "[notice] A new release of pip available: 22.3.1 -> 23.2.1\n",
      "[notice] To update, run: python.exe -m pip install --upgrade pip\n"
     ]
    },
    {
     "name": "stdout",
     "output_type": "stream",
     "text": [
      "Requirement already satisfied: nltk in d:\\kuliah\\data mining\\uasv2\\venv\\lib\\site-packages (3.8.1)\n",
      "Requirement already satisfied: regex>=2021.8.3 in d:\\kuliah\\data mining\\uasv2\\venv\\lib\\site-packages (from nltk) (2023.6.3)\n",
      "Requirement already satisfied: click in d:\\kuliah\\data mining\\uasv2\\venv\\lib\\site-packages (from nltk) (8.1.6)\n",
      "Requirement already satisfied: joblib in d:\\kuliah\\data mining\\uasv2\\venv\\lib\\site-packages (from nltk) (1.3.1)\n",
      "Requirement already satisfied: tqdm in d:\\kuliah\\data mining\\uasv2\\venv\\lib\\site-packages (from nltk) (4.65.0)\n",
      "Requirement already satisfied: colorama in d:\\kuliah\\data mining\\uasv2\\venv\\lib\\site-packages (from click->nltk) (0.4.6)\n"
     ]
    },
    {
     "name": "stderr",
     "output_type": "stream",
     "text": [
      "\n",
      "[notice] A new release of pip available: 22.3.1 -> 23.2.1\n",
      "[notice] To update, run: python.exe -m pip install --upgrade pip\n"
     ]
    }
   ],
   "source": [
    "!pip install git+https://github.com/LIAAD/yake\n",
    "!pip install nltk"
   ]
  },
  {
   "cell_type": "code",
   "execution_count": 2,
   "outputs": [
    {
     "name": "stderr",
     "output_type": "stream",
     "text": [
      "[nltk_data] Downloading package punkt to\n",
      "[nltk_data]     C:\\Users\\mrwnh\\AppData\\Roaming\\nltk_data...\n",
      "[nltk_data]   Package punkt is already up-to-date!\n",
      "[nltk_data] Downloading package stopwords to\n",
      "[nltk_data]     C:\\Users\\mrwnh\\AppData\\Roaming\\nltk_data...\n",
      "[nltk_data]   Package stopwords is already up-to-date!\n"
     ]
    },
    {
     "data": {
      "text/plain": "True"
     },
     "execution_count": 2,
     "metadata": {},
     "output_type": "execute_result"
    }
   ],
   "source": [
    "import os\n",
    "import yake\n",
    "import nltk\n",
    "from nltk.corpus import stopwords\n",
    "from nltk.tokenize import word_tokenize\n",
    "from nltk.stem import PorterStemmer\n",
    "import string\n",
    "import pandas as pd\n",
    "\n",
    "nltk.download('punkt')\n",
    "nltk.download('stopwords')"
   ],
   "metadata": {
    "collapsed": false,
    "ExecuteTime": {
     "end_time": "2023-07-24T09:37:44.758388Z",
     "start_time": "2023-07-24T09:37:43.879780600Z"
    }
   }
  },
  {
   "cell_type": "code",
   "execution_count": 3,
   "outputs": [],
   "source": [
    "def preprocess_text(text):\n",
    "    # Tokenisasi teks menjadi kata-kata\n",
    "    words = word_tokenize(text.lower())\n",
    "\n",
    "    # Penghapusan tanda baca dan karakter non-abjad\n",
    "    words_filtered = [word for word in words if word.isalnum()]\n",
    "\n",
    "    # Penghapusan kata-kata stopword\n",
    "    stop_words = set(stopwords.words(\"indonesian\"))\n",
    "    words_filtered = [word for word in words_filtered if word not in stop_words]\n",
    "\n",
    "    # Stemming kata-kata untuk mendapatkan bentuk kata dasar\n",
    "    ps = PorterStemmer()\n",
    "    words_stemmed = [ps.stem(word) for word in words_filtered]\n",
    "\n",
    "    return \" \".join(words_stemmed)\n",
    "\n",
    "def yake_keywords(text, max_keywords=5):\n",
    "    # Inisialisasi ekstraktor YAKE\n",
    "    custom_kw_extractor = yake.KeywordExtractor(n=1, top=max_keywords, features=None)\n",
    "\n",
    "    # Ekstraksi kata kunci menggunakan YAKE\n",
    "    keywords = custom_kw_extractor.extract_keywords(text)\n",
    "\n",
    "    return [keyword for keyword, score in keywords]\n",
    "\n",
    "def read_abstract_from_file(file_path):\n",
    "    with open(file_path, 'r', encoding='utf-8') as file:\n",
    "        return file.read()"
   ],
   "metadata": {
    "collapsed": false,
    "ExecuteTime": {
     "end_time": "2023-07-24T09:37:44.772409900Z",
     "start_time": "2023-07-24T09:37:44.760389400Z"
    }
   }
  },
  {
   "cell_type": "code",
   "execution_count": 4,
   "outputs": [],
   "source": [
    "# Folder path for the abstracts\n",
    "folder_path = \"abstrak/\"\n",
    "\n",
    "# Create an empty DataFrame to store the keyword extraction results\n",
    "result_df = pd.DataFrame(columns=[\"File\", \"Abstrak\", \"Preprocessed Text\", \"Keywords\"])\n",
    "\n",
    "# Extract keywords for each abstract in each file\n",
    "for filename in os.listdir(folder_path):\n",
    "    if filename.endswith(\".txt\"):\n",
    "        file_path = os.path.join(folder_path, filename)\n",
    "\n",
    "        # Read the contents of the abstract file\n",
    "        text = read_abstract_from_file(file_path)\n",
    "\n",
    "        # Divide the text into parts based on \"Kata Kunci:\"\n",
    "        abstracts = text.split(\"Kata Kunci:\")\n",
    "\n",
    "        # Extract keywords for each abstract in the file\n",
    "        for idx, abstract in enumerate(abstracts[1:], start=1):\n",
    "            # Separate abstract and keywords section\n",
    "            abstract_parts = abstract.split(\"\\n\")\n",
    "\n",
    "            # Preprocess the text in the abstract\n",
    "            preprocessed_text = preprocess_text(abstract_parts[0])\n",
    "\n",
    "            # Extract keywords using YAKE\n",
    "            keywords = yake_keywords(preprocessed_text)\n",
    "\n",
    "            # Add the extraction results to the DataFrame\n",
    "            result_df = pd.concat([result_df, pd.DataFrame({\n",
    "                \"File\": [filename],\n",
    "                \"Abstrak\": [idx],\n",
    "                \"Preprocessed Text\": [preprocessed_text],\n",
    "                \"Keywords\": [\", \".join(keywords)]\n",
    "            })])\n",
    "\n",
    "# Save the DataFrame to a CSV file\n",
    "result_csv_path = \"keyword_abstrak.csv\"\n",
    "result_df.to_csv(result_csv_path, index=False)"
   ],
   "metadata": {
    "collapsed": false,
    "ExecuteTime": {
     "end_time": "2023-07-24T09:37:44.816523600Z",
     "start_time": "2023-07-24T09:37:44.774423400Z"
    }
   }
  },
  {
   "cell_type": "code",
   "execution_count": 5,
   "outputs": [
    {
     "name": "stdout",
     "output_type": "stream",
     "text": [
      "Hasil Ekstraksi dari File CSV:\n",
      "           File  Abstrak                                  Preprocessed Text  \\\n",
      "0  abstrak2.txt        1      prediksi studi case base reason cosin similar   \n",
      "1  abstrak3.txt        1  sistem pendukung keputusan prestasi analyt hie...   \n",
      "2  abstrak4.txt        1  sistem pendukung keputusan weight product hype...   \n",
      "3  abstrak5.txt        1                 sistem informasi penjurusan angket   \n",
      "\n",
      "                                          Keywords  \n",
      "0             prediksi, similar, studi, case, base  \n",
      "1  sistem, process, pendukung, keputusan, prestasi  \n",
      "2    sistem, jurusan, pendukung, keputusan, weight  \n",
      "3            sistem, angket, informasi, penjurusan  \n"
     ]
    }
   ],
   "source": [
    "# Read the saved CSV file\n",
    "read_result_df = pd.read_csv(result_csv_path)\n",
    "\n",
    "# Print the DataFrame read from the CSV\n",
    "print(\"Hasil Ekstraksi dari File CSV:\")\n",
    "print(read_result_df)"
   ],
   "metadata": {
    "collapsed": false,
    "ExecuteTime": {
     "end_time": "2023-07-24T09:37:44.832194600Z",
     "start_time": "2023-07-24T09:37:44.818524800Z"
    }
   }
  }
 ],
 "metadata": {
  "kernelspec": {
   "display_name": "Python 3",
   "language": "python",
   "name": "python3"
  },
  "language_info": {
   "codemirror_mode": {
    "name": "ipython",
    "version": 2
   },
   "file_extension": ".py",
   "mimetype": "text/x-python",
   "name": "python",
   "nbconvert_exporter": "python",
   "pygments_lexer": "ipython2",
   "version": "2.7.6"
  }
 },
 "nbformat": 4,
 "nbformat_minor": 0
}
